{
 "cells": [
  {
   "cell_type": "markdown",
   "id": "bcc1102b-1bf6-4caf-9e84-292f45117269",
   "metadata": {},
   "source": [
    "## ***Importation des bibliothèques***"
   ]
  },
  {
   "cell_type": "code",
   "execution_count": 1,
   "id": "77ffd567-eae8-4320-88f9-24f28d94498c",
   "metadata": {},
   "outputs": [],
   "source": [
    "import numpy as np\n",
    "import pandas as pd\n",
    "import nltk\n",
    "from nltk.corpus import stopwords\n",
    "from sklearn.model_selection import StratifiedShuffleSplit\n",
    "from sklearn.linear_model import LogisticRegression\n",
    "from sklearn.svm import SVC\n",
    "import string\n",
    "from sklearn.feature_extraction.text import CountVectorizer\n",
    "from sklearn.model_selection import train_test_split\n",
    "from sklearn.naive_bayes import MultinomialNB, GaussianNB\n",
    "from sklearn.metrics import accuracy_score\n",
    "from scipy.sparse import csr_matrix\n",
    "from sklearn.feature_extraction.text import TfidfTransformer\n",
    "import html\n",
    "import re"
   ]
  },
  {
   "cell_type": "markdown",
   "id": "ebae6f78-613e-47f4-b5d2-f842a27023ec",
   "metadata": {},
   "source": [
    "## ***Exploration des données***"
   ]
  },
  {
   "cell_type": "code",
   "execution_count": 2,
   "id": "2cda4d64-9d2a-4271-accf-a59a243f2be9",
   "metadata": {},
   "outputs": [],
   "source": [
    "df = pd.read_csv(\"labeled_data.csv\")"
   ]
  },
  {
   "cell_type": "code",
   "execution_count": 3,
   "id": "dabd76df-78ff-4daa-aac9-d8ac1111c1f7",
   "metadata": {},
   "outputs": [],
   "source": [
    "df.drop(\"Unnamed: 0\", axis=1,inplace=True)"
   ]
  },
  {
   "cell_type": "code",
   "execution_count": 4,
   "id": "78a0f9d8-7ebe-4dcd-b8bd-3bc977eadb6f",
   "metadata": {},
   "outputs": [
    {
     "data": {
      "text/plain": [
       "(24783, 6)"
      ]
     },
     "execution_count": 4,
     "metadata": {},
     "output_type": "execute_result"
    }
   ],
   "source": [
    "df.shape"
   ]
  },
  {
   "cell_type": "code",
   "execution_count": 5,
   "id": "29f487f9-c5b9-4523-b8f8-3027e00144de",
   "metadata": {},
   "outputs": [
    {
     "data": {
      "text/html": [
       "<div>\n",
       "<style scoped>\n",
       "    .dataframe tbody tr th:only-of-type {\n",
       "        vertical-align: middle;\n",
       "    }\n",
       "\n",
       "    .dataframe tbody tr th {\n",
       "        vertical-align: top;\n",
       "    }\n",
       "\n",
       "    .dataframe thead th {\n",
       "        text-align: right;\n",
       "    }\n",
       "</style>\n",
       "<table border=\"1\" class=\"dataframe\">\n",
       "  <thead>\n",
       "    <tr style=\"text-align: right;\">\n",
       "      <th></th>\n",
       "      <th>count</th>\n",
       "      <th>hate_speech</th>\n",
       "      <th>offensive_language</th>\n",
       "      <th>neither</th>\n",
       "      <th>class</th>\n",
       "      <th>tweet</th>\n",
       "    </tr>\n",
       "  </thead>\n",
       "  <tbody>\n",
       "    <tr>\n",
       "      <th>0</th>\n",
       "      <td>3</td>\n",
       "      <td>0</td>\n",
       "      <td>0</td>\n",
       "      <td>3</td>\n",
       "      <td>2</td>\n",
       "      <td>!!! RT @mayasolovely: As a woman you shouldn't...</td>\n",
       "    </tr>\n",
       "    <tr>\n",
       "      <th>1</th>\n",
       "      <td>3</td>\n",
       "      <td>0</td>\n",
       "      <td>3</td>\n",
       "      <td>0</td>\n",
       "      <td>1</td>\n",
       "      <td>!!!!! RT @mleew17: boy dats cold...tyga dwn ba...</td>\n",
       "    </tr>\n",
       "    <tr>\n",
       "      <th>2</th>\n",
       "      <td>3</td>\n",
       "      <td>0</td>\n",
       "      <td>3</td>\n",
       "      <td>0</td>\n",
       "      <td>1</td>\n",
       "      <td>!!!!!!! RT @UrKindOfBrand Dawg!!!! RT @80sbaby...</td>\n",
       "    </tr>\n",
       "    <tr>\n",
       "      <th>3</th>\n",
       "      <td>3</td>\n",
       "      <td>0</td>\n",
       "      <td>2</td>\n",
       "      <td>1</td>\n",
       "      <td>1</td>\n",
       "      <td>!!!!!!!!! RT @C_G_Anderson: @viva_based she lo...</td>\n",
       "    </tr>\n",
       "    <tr>\n",
       "      <th>4</th>\n",
       "      <td>6</td>\n",
       "      <td>0</td>\n",
       "      <td>6</td>\n",
       "      <td>0</td>\n",
       "      <td>1</td>\n",
       "      <td>!!!!!!!!!!!!! RT @ShenikaRoberts: The shit you...</td>\n",
       "    </tr>\n",
       "  </tbody>\n",
       "</table>\n",
       "</div>"
      ],
      "text/plain": [
       "   count  hate_speech  offensive_language  neither  class  \\\n",
       "0      3            0                   0        3      2   \n",
       "1      3            0                   3        0      1   \n",
       "2      3            0                   3        0      1   \n",
       "3      3            0                   2        1      1   \n",
       "4      6            0                   6        0      1   \n",
       "\n",
       "                                               tweet  \n",
       "0  !!! RT @mayasolovely: As a woman you shouldn't...  \n",
       "1  !!!!! RT @mleew17: boy dats cold...tyga dwn ba...  \n",
       "2  !!!!!!! RT @UrKindOfBrand Dawg!!!! RT @80sbaby...  \n",
       "3  !!!!!!!!! RT @C_G_Anderson: @viva_based she lo...  \n",
       "4  !!!!!!!!!!!!! RT @ShenikaRoberts: The shit you...  "
      ]
     },
     "execution_count": 5,
     "metadata": {},
     "output_type": "execute_result"
    }
   ],
   "source": [
    "df.head()"
   ]
  },
  {
   "cell_type": "code",
   "execution_count": 6,
   "id": "725ce8b7-2086-4824-89bc-3430dcbcb9e2",
   "metadata": {},
   "outputs": [
    {
     "data": {
      "text/html": [
       "<div>\n",
       "<style scoped>\n",
       "    .dataframe tbody tr th:only-of-type {\n",
       "        vertical-align: middle;\n",
       "    }\n",
       "\n",
       "    .dataframe tbody tr th {\n",
       "        vertical-align: top;\n",
       "    }\n",
       "\n",
       "    .dataframe thead th {\n",
       "        text-align: right;\n",
       "    }\n",
       "</style>\n",
       "<table border=\"1\" class=\"dataframe\">\n",
       "  <thead>\n",
       "    <tr style=\"text-align: right;\">\n",
       "      <th></th>\n",
       "      <th>count</th>\n",
       "      <th>hate_speech</th>\n",
       "      <th>offensive_language</th>\n",
       "      <th>neither</th>\n",
       "      <th>class</th>\n",
       "      <th>tweet</th>\n",
       "    </tr>\n",
       "  </thead>\n",
       "  <tbody>\n",
       "    <tr>\n",
       "      <th>24778</th>\n",
       "      <td>3</td>\n",
       "      <td>0</td>\n",
       "      <td>2</td>\n",
       "      <td>1</td>\n",
       "      <td>1</td>\n",
       "      <td>you's a muthaf***in lie &amp;#8220;@LifeAsKing: @2...</td>\n",
       "    </tr>\n",
       "    <tr>\n",
       "      <th>24779</th>\n",
       "      <td>3</td>\n",
       "      <td>0</td>\n",
       "      <td>1</td>\n",
       "      <td>2</td>\n",
       "      <td>2</td>\n",
       "      <td>you've gone and broke the wrong heart baby, an...</td>\n",
       "    </tr>\n",
       "    <tr>\n",
       "      <th>24780</th>\n",
       "      <td>3</td>\n",
       "      <td>0</td>\n",
       "      <td>3</td>\n",
       "      <td>0</td>\n",
       "      <td>1</td>\n",
       "      <td>young buck wanna eat!!.. dat nigguh like I ain...</td>\n",
       "    </tr>\n",
       "    <tr>\n",
       "      <th>24781</th>\n",
       "      <td>6</td>\n",
       "      <td>0</td>\n",
       "      <td>6</td>\n",
       "      <td>0</td>\n",
       "      <td>1</td>\n",
       "      <td>youu got wild bitches tellin you lies</td>\n",
       "    </tr>\n",
       "    <tr>\n",
       "      <th>24782</th>\n",
       "      <td>3</td>\n",
       "      <td>0</td>\n",
       "      <td>0</td>\n",
       "      <td>3</td>\n",
       "      <td>2</td>\n",
       "      <td>~~Ruffled | Ntac Eileen Dahlia - Beautiful col...</td>\n",
       "    </tr>\n",
       "  </tbody>\n",
       "</table>\n",
       "</div>"
      ],
      "text/plain": [
       "       count  hate_speech  offensive_language  neither  class  \\\n",
       "24778      3            0                   2        1      1   \n",
       "24779      3            0                   1        2      2   \n",
       "24780      3            0                   3        0      1   \n",
       "24781      6            0                   6        0      1   \n",
       "24782      3            0                   0        3      2   \n",
       "\n",
       "                                                   tweet  \n",
       "24778  you's a muthaf***in lie &#8220;@LifeAsKing: @2...  \n",
       "24779  you've gone and broke the wrong heart baby, an...  \n",
       "24780  young buck wanna eat!!.. dat nigguh like I ain...  \n",
       "24781              youu got wild bitches tellin you lies  \n",
       "24782  ~~Ruffled | Ntac Eileen Dahlia - Beautiful col...  "
      ]
     },
     "execution_count": 6,
     "metadata": {},
     "output_type": "execute_result"
    }
   ],
   "source": [
    "df.tail()"
   ]
  },
  {
   "cell_type": "code",
   "execution_count": 7,
   "id": "4d7023df-4b53-45b3-869e-453b9cf2b09b",
   "metadata": {},
   "outputs": [
    {
     "name": "stdout",
     "output_type": "stream",
     "text": [
      "<class 'pandas.core.frame.DataFrame'>\n",
      "RangeIndex: 24783 entries, 0 to 24782\n",
      "Data columns (total 6 columns):\n",
      " #   Column              Non-Null Count  Dtype \n",
      "---  ------              --------------  ----- \n",
      " 0   count               24783 non-null  int64 \n",
      " 1   hate_speech         24783 non-null  int64 \n",
      " 2   offensive_language  24783 non-null  int64 \n",
      " 3   neither             24783 non-null  int64 \n",
      " 4   class               24783 non-null  int64 \n",
      " 5   tweet               24783 non-null  object\n",
      "dtypes: int64(5), object(1)\n",
      "memory usage: 1.1+ MB\n"
     ]
    }
   ],
   "source": [
    "df.info()"
   ]
  },
  {
   "cell_type": "code",
   "execution_count": 8,
   "id": "d097b5fd-adde-4ed4-88e4-0ca87c4450df",
   "metadata": {},
   "outputs": [],
   "source": [
    "df.drop([\"hate_speech\",\"offensive_language\",\"neither\"],axis=1,inplace=True)"
   ]
  },
  {
   "cell_type": "code",
   "execution_count": 9,
   "id": "c76f4592-82a9-4bd7-a7cc-7d80cb037c51",
   "metadata": {},
   "outputs": [
    {
     "data": {
      "text/html": [
       "<div>\n",
       "<style scoped>\n",
       "    .dataframe tbody tr th:only-of-type {\n",
       "        vertical-align: middle;\n",
       "    }\n",
       "\n",
       "    .dataframe tbody tr th {\n",
       "        vertical-align: top;\n",
       "    }\n",
       "\n",
       "    .dataframe thead th {\n",
       "        text-align: right;\n",
       "    }\n",
       "</style>\n",
       "<table border=\"1\" class=\"dataframe\">\n",
       "  <thead>\n",
       "    <tr style=\"text-align: right;\">\n",
       "      <th></th>\n",
       "      <th>count</th>\n",
       "      <th>class</th>\n",
       "      <th>tweet</th>\n",
       "    </tr>\n",
       "  </thead>\n",
       "  <tbody>\n",
       "    <tr>\n",
       "      <th>0</th>\n",
       "      <td>3</td>\n",
       "      <td>2</td>\n",
       "      <td>!!! RT @mayasolovely: As a woman you shouldn't...</td>\n",
       "    </tr>\n",
       "    <tr>\n",
       "      <th>1</th>\n",
       "      <td>3</td>\n",
       "      <td>1</td>\n",
       "      <td>!!!!! RT @mleew17: boy dats cold...tyga dwn ba...</td>\n",
       "    </tr>\n",
       "    <tr>\n",
       "      <th>2</th>\n",
       "      <td>3</td>\n",
       "      <td>1</td>\n",
       "      <td>!!!!!!! RT @UrKindOfBrand Dawg!!!! RT @80sbaby...</td>\n",
       "    </tr>\n",
       "    <tr>\n",
       "      <th>3</th>\n",
       "      <td>3</td>\n",
       "      <td>1</td>\n",
       "      <td>!!!!!!!!! RT @C_G_Anderson: @viva_based she lo...</td>\n",
       "    </tr>\n",
       "    <tr>\n",
       "      <th>4</th>\n",
       "      <td>6</td>\n",
       "      <td>1</td>\n",
       "      <td>!!!!!!!!!!!!! RT @ShenikaRoberts: The shit you...</td>\n",
       "    </tr>\n",
       "  </tbody>\n",
       "</table>\n",
       "</div>"
      ],
      "text/plain": [
       "   count  class                                              tweet\n",
       "0      3      2  !!! RT @mayasolovely: As a woman you shouldn't...\n",
       "1      3      1  !!!!! RT @mleew17: boy dats cold...tyga dwn ba...\n",
       "2      3      1  !!!!!!! RT @UrKindOfBrand Dawg!!!! RT @80sbaby...\n",
       "3      3      1  !!!!!!!!! RT @C_G_Anderson: @viva_based she lo...\n",
       "4      6      1  !!!!!!!!!!!!! RT @ShenikaRoberts: The shit you..."
      ]
     },
     "execution_count": 9,
     "metadata": {},
     "output_type": "execute_result"
    }
   ],
   "source": [
    "df.head()"
   ]
  },
  {
   "cell_type": "code",
   "execution_count": 10,
   "id": "51d2b31c-e6e5-431c-8c9a-9c982e1ea4a1",
   "metadata": {},
   "outputs": [],
   "source": [
    "map_dic = {0:\"hate_speech\",1:\"offensive_language\",2:\"neither\"}\n",
    "df[\"class\"]=df[\"class\"].map(map_dic)"
   ]
  },
  {
   "cell_type": "code",
   "execution_count": 11,
   "id": "c1453ef9-eb69-4557-a617-094a422cd223",
   "metadata": {},
   "outputs": [
    {
     "data": {
      "text/html": [
       "<div>\n",
       "<style scoped>\n",
       "    .dataframe tbody tr th:only-of-type {\n",
       "        vertical-align: middle;\n",
       "    }\n",
       "\n",
       "    .dataframe tbody tr th {\n",
       "        vertical-align: top;\n",
       "    }\n",
       "\n",
       "    .dataframe thead th {\n",
       "        text-align: right;\n",
       "    }\n",
       "</style>\n",
       "<table border=\"1\" class=\"dataframe\">\n",
       "  <thead>\n",
       "    <tr style=\"text-align: right;\">\n",
       "      <th></th>\n",
       "      <th>count</th>\n",
       "      <th>class</th>\n",
       "      <th>tweet</th>\n",
       "    </tr>\n",
       "  </thead>\n",
       "  <tbody>\n",
       "    <tr>\n",
       "      <th>0</th>\n",
       "      <td>3</td>\n",
       "      <td>neither</td>\n",
       "      <td>!!! RT @mayasolovely: As a woman you shouldn't...</td>\n",
       "    </tr>\n",
       "    <tr>\n",
       "      <th>1</th>\n",
       "      <td>3</td>\n",
       "      <td>offensive_language</td>\n",
       "      <td>!!!!! RT @mleew17: boy dats cold...tyga dwn ba...</td>\n",
       "    </tr>\n",
       "    <tr>\n",
       "      <th>2</th>\n",
       "      <td>3</td>\n",
       "      <td>offensive_language</td>\n",
       "      <td>!!!!!!! RT @UrKindOfBrand Dawg!!!! RT @80sbaby...</td>\n",
       "    </tr>\n",
       "    <tr>\n",
       "      <th>3</th>\n",
       "      <td>3</td>\n",
       "      <td>offensive_language</td>\n",
       "      <td>!!!!!!!!! RT @C_G_Anderson: @viva_based she lo...</td>\n",
       "    </tr>\n",
       "    <tr>\n",
       "      <th>4</th>\n",
       "      <td>6</td>\n",
       "      <td>offensive_language</td>\n",
       "      <td>!!!!!!!!!!!!! RT @ShenikaRoberts: The shit you...</td>\n",
       "    </tr>\n",
       "  </tbody>\n",
       "</table>\n",
       "</div>"
      ],
      "text/plain": [
       "   count               class  \\\n",
       "0      3             neither   \n",
       "1      3  offensive_language   \n",
       "2      3  offensive_language   \n",
       "3      3  offensive_language   \n",
       "4      6  offensive_language   \n",
       "\n",
       "                                               tweet  \n",
       "0  !!! RT @mayasolovely: As a woman you shouldn't...  \n",
       "1  !!!!! RT @mleew17: boy dats cold...tyga dwn ba...  \n",
       "2  !!!!!!! RT @UrKindOfBrand Dawg!!!! RT @80sbaby...  \n",
       "3  !!!!!!!!! RT @C_G_Anderson: @viva_based she lo...  \n",
       "4  !!!!!!!!!!!!! RT @ShenikaRoberts: The shit you...  "
      ]
     },
     "execution_count": 11,
     "metadata": {},
     "output_type": "execute_result"
    }
   ],
   "source": [
    "df.head()"
   ]
  },
  {
   "cell_type": "markdown",
   "id": "27c7bb7e-396a-46df-bb51-93d0d9e99673",
   "metadata": {},
   "source": [
    "## ***Text Preprocessing***"
   ]
  },
  {
   "cell_type": "markdown",
   "id": "5df964ba-0cd4-4de2-9dc9-aab3a82a3c18",
   "metadata": {},
   "source": [
    "### **Removing Stopwords**"
   ]
  },
  {
   "cell_type": "code",
   "execution_count": 12,
   "id": "7b35b8bd-4bd0-4cc0-ba68-925c3fc0cb75",
   "metadata": {},
   "outputs": [],
   "source": [
    "def process(message):\n",
    "    nopunc = [char for char in message if char not in string.punctuation]\n",
    "    nopunc = ''.join(nopunc)\n",
    "    clean = [word for word in nopunc.split() if word.lower() not in stopwords.words('english')]\n",
    "    \n",
    "    return ' '.join(clean)"
   ]
  },
  {
   "cell_type": "code",
   "execution_count": 13,
   "id": "1b71a131-b69c-4ba7-b8ab-46d81b969b15",
   "metadata": {},
   "outputs": [],
   "source": [
    "df[\"tweet\"] = df[\"tweet\"].apply(process)"
   ]
  },
  {
   "cell_type": "code",
   "execution_count": 14,
   "id": "b2edfcdf-4a98-46b0-a8b0-2d60cd4ef1fa",
   "metadata": {},
   "outputs": [],
   "source": [
    "def clean_tweet(tweet):\n",
    "    # Unescape HTML entities (e.g., &amp; -> &, &#128536; -> emoji)\n",
    "    tweet = html.unescape(tweet)\n",
    "    # Remove mentions (@username)\n",
    "    tweet = re.sub(r'@\\w+', '', tweet)\n",
    "    # Remove hashtags (#hashtag)\n",
    "    tweet = re.sub(r'#\\w+', '', tweet)\n",
    "    # Remove URLs\n",
    "    tweet = re.sub(r'http\\S+|www\\S+|https\\S+', '', tweet)\n",
    "    # Remove emojis and non-ASCII characters\n",
    "    tweet = tweet.encode('ascii', 'ignore').decode('ascii')\n",
    "    # Remove special characters, punctuation (except sentence enders), and digits\n",
    "    tweet = re.sub(r'[^A-Za-z\\s]', '', tweet)\n",
    "    # Collapse multiple spaces into one\n",
    "    tweet = re.sub(r'\\s+', ' ', tweet).strip()\n",
    "    return tweet"
   ]
  },
  {
   "cell_type": "code",
   "execution_count": 15,
   "id": "2c5e6b2e-2b39-4d54-9c41-3cbffad5b55d",
   "metadata": {},
   "outputs": [],
   "source": [
    "df['tweet'] = df['tweet'].apply(clean_tweet)"
   ]
  },
  {
   "cell_type": "code",
   "execution_count": 16,
   "id": "ebcdb2c0-b43c-4df5-bb3d-84695aa31e7f",
   "metadata": {},
   "outputs": [
    {
     "data": {
      "text/html": [
       "<div>\n",
       "<style scoped>\n",
       "    .dataframe tbody tr th:only-of-type {\n",
       "        vertical-align: middle;\n",
       "    }\n",
       "\n",
       "    .dataframe tbody tr th {\n",
       "        vertical-align: top;\n",
       "    }\n",
       "\n",
       "    .dataframe thead th {\n",
       "        text-align: right;\n",
       "    }\n",
       "</style>\n",
       "<table border=\"1\" class=\"dataframe\">\n",
       "  <thead>\n",
       "    <tr style=\"text-align: right;\">\n",
       "      <th></th>\n",
       "      <th>count</th>\n",
       "      <th>class</th>\n",
       "      <th>tweet</th>\n",
       "    </tr>\n",
       "  </thead>\n",
       "  <tbody>\n",
       "    <tr>\n",
       "      <th>0</th>\n",
       "      <td>3</td>\n",
       "      <td>neither</td>\n",
       "      <td>RT mayasolovely woman shouldnt complain cleani...</td>\n",
       "    </tr>\n",
       "    <tr>\n",
       "      <th>1</th>\n",
       "      <td>3</td>\n",
       "      <td>offensive_language</td>\n",
       "      <td>RT mleew boy dats coldtyga dwn bad cuffin dat ...</td>\n",
       "    </tr>\n",
       "    <tr>\n",
       "      <th>2</th>\n",
       "      <td>3</td>\n",
       "      <td>offensive_language</td>\n",
       "      <td>RT UrKindOfBrand Dawg RT sbabylife ever fuck b...</td>\n",
       "    </tr>\n",
       "    <tr>\n",
       "      <th>3</th>\n",
       "      <td>3</td>\n",
       "      <td>offensive_language</td>\n",
       "      <td>RT CGAnderson vivabased look like tranny</td>\n",
       "    </tr>\n",
       "    <tr>\n",
       "      <th>4</th>\n",
       "      <td>6</td>\n",
       "      <td>offensive_language</td>\n",
       "      <td>RT ShenikaRoberts shit hear might true might f...</td>\n",
       "    </tr>\n",
       "  </tbody>\n",
       "</table>\n",
       "</div>"
      ],
      "text/plain": [
       "   count               class  \\\n",
       "0      3             neither   \n",
       "1      3  offensive_language   \n",
       "2      3  offensive_language   \n",
       "3      3  offensive_language   \n",
       "4      6  offensive_language   \n",
       "\n",
       "                                               tweet  \n",
       "0  RT mayasolovely woman shouldnt complain cleani...  \n",
       "1  RT mleew boy dats coldtyga dwn bad cuffin dat ...  \n",
       "2  RT UrKindOfBrand Dawg RT sbabylife ever fuck b...  \n",
       "3           RT CGAnderson vivabased look like tranny  \n",
       "4  RT ShenikaRoberts shit hear might true might f...  "
      ]
     },
     "execution_count": 16,
     "metadata": {},
     "output_type": "execute_result"
    }
   ],
   "source": [
    "df.head()"
   ]
  },
  {
   "cell_type": "code",
   "execution_count": 17,
   "id": "89ef1e4a-2784-42de-ae75-8ea4300b51f9",
   "metadata": {},
   "outputs": [],
   "source": [
    "df[\"tweet\"] = df[\"tweet\"].str.lower()"
   ]
  },
  {
   "cell_type": "markdown",
   "id": "01a2e420-e0ee-4530-b8b1-40d9a513ea2f",
   "metadata": {},
   "source": [
    "### **Stemming**"
   ]
  },
  {
   "cell_type": "code",
   "execution_count": 18,
   "id": "70af3936-c3d2-4589-96ff-908f5e110c4d",
   "metadata": {},
   "outputs": [],
   "source": [
    "porter = nltk.PorterStemmer()\n",
    "def stem(message):\n",
    "    stemmedArr = [porter.stem(term) for term in message.split(\" \")]\n",
    "    return ' '.join(stemmedArr)"
   ]
  },
  {
   "cell_type": "code",
   "execution_count": 19,
   "id": "03055773-f63c-447c-88ed-1d2759db146f",
   "metadata": {},
   "outputs": [],
   "source": [
    "df[\"tweet\"]=df[\"tweet\"].apply(stem)"
   ]
  },
  {
   "cell_type": "code",
   "execution_count": 20,
   "id": "a824d1dc-216c-40e7-a589-3b57948fd400",
   "metadata": {},
   "outputs": [
    {
     "data": {
      "text/html": [
       "<div>\n",
       "<style scoped>\n",
       "    .dataframe tbody tr th:only-of-type {\n",
       "        vertical-align: middle;\n",
       "    }\n",
       "\n",
       "    .dataframe tbody tr th {\n",
       "        vertical-align: top;\n",
       "    }\n",
       "\n",
       "    .dataframe thead th {\n",
       "        text-align: right;\n",
       "    }\n",
       "</style>\n",
       "<table border=\"1\" class=\"dataframe\">\n",
       "  <thead>\n",
       "    <tr style=\"text-align: right;\">\n",
       "      <th></th>\n",
       "      <th>count</th>\n",
       "      <th>class</th>\n",
       "      <th>tweet</th>\n",
       "    </tr>\n",
       "  </thead>\n",
       "  <tbody>\n",
       "    <tr>\n",
       "      <th>24778</th>\n",
       "      <td>3</td>\n",
       "      <td>offensive_language</td>\n",
       "      <td>you muthafin lie lifeask pearl coreyemanuel ri...</td>\n",
       "    </tr>\n",
       "    <tr>\n",
       "      <th>24779</th>\n",
       "      <td>3</td>\n",
       "      <td>neither</td>\n",
       "      <td>youv gone broke wrong heart babi drove redneck...</td>\n",
       "    </tr>\n",
       "    <tr>\n",
       "      <th>24780</th>\n",
       "      <td>3</td>\n",
       "      <td>offensive_language</td>\n",
       "      <td>young buck wanna eat dat nigguh like aint fuck...</td>\n",
       "    </tr>\n",
       "    <tr>\n",
       "      <th>24781</th>\n",
       "      <td>6</td>\n",
       "      <td>offensive_language</td>\n",
       "      <td>youu got wild bitch tellin lie</td>\n",
       "    </tr>\n",
       "    <tr>\n",
       "      <th>24782</th>\n",
       "      <td>3</td>\n",
       "      <td>neither</td>\n",
       "      <td>ruffl ntac eileen dahlia beauti color combin p...</td>\n",
       "    </tr>\n",
       "  </tbody>\n",
       "</table>\n",
       "</div>"
      ],
      "text/plain": [
       "       count               class  \\\n",
       "24778      3  offensive_language   \n",
       "24779      3             neither   \n",
       "24780      3  offensive_language   \n",
       "24781      6  offensive_language   \n",
       "24782      3             neither   \n",
       "\n",
       "                                                   tweet  \n",
       "24778  you muthafin lie lifeask pearl coreyemanuel ri...  \n",
       "24779  youv gone broke wrong heart babi drove redneck...  \n",
       "24780  young buck wanna eat dat nigguh like aint fuck...  \n",
       "24781                     youu got wild bitch tellin lie  \n",
       "24782  ruffl ntac eileen dahlia beauti color combin p...  "
      ]
     },
     "execution_count": 20,
     "metadata": {},
     "output_type": "execute_result"
    }
   ],
   "source": [
    "df.tail()"
   ]
  },
  {
   "cell_type": "markdown",
   "id": "05a499d3-de4d-4d4f-a60c-965daa1c2f8a",
   "metadata": {},
   "source": [
    "## ***Feature Extraction***"
   ]
  },
  {
   "cell_type": "code",
   "execution_count": 21,
   "id": "9360de9e-dda5-44b8-8d8e-acc1767367fd",
   "metadata": {},
   "outputs": [],
   "source": [
    "X = df.drop(\"class\",axis=1)\n",
    "y = df[\"class\"]"
   ]
  },
  {
   "cell_type": "code",
   "execution_count": 22,
   "id": "dcc61fab-5c39-4733-ba67-7141f6728085",
   "metadata": {},
   "outputs": [],
   "source": [
    "X_train,X_test,y_train,y_test = train_test_split(X,y,test_size=0.3,random_state=42)\n"
   ]
  },
  {
   "cell_type": "code",
   "execution_count": 23,
   "id": "690320c5-2910-41b6-bc00-8e6078783eab",
   "metadata": {},
   "outputs": [],
   "source": [
    "count_vect = CountVectorizer()\n",
    "X_train_count = count_vect.fit_transform(X_train.tweet)"
   ]
  },
  {
   "cell_type": "code",
   "execution_count": 24,
   "id": "63bf8dd9-0d49-4036-af33-e33faa33aa0b",
   "metadata": {},
   "outputs": [
    {
     "data": {
      "text/plain": [
       "(17348, 22749)"
      ]
     },
     "execution_count": 24,
     "metadata": {},
     "output_type": "execute_result"
    }
   ],
   "source": [
    "X_train_count.shape"
   ]
  },
  {
   "cell_type": "code",
   "execution_count": 25,
   "id": "5241ebf7-2b1d-45c2-b0d9-5cafa13ee6a8",
   "metadata": {},
   "outputs": [],
   "source": [
    "X_test_count = count_vect.transform(X_test.tweet)"
   ]
  },
  {
   "cell_type": "code",
   "execution_count": 26,
   "id": "303e2985-3c11-4a36-bba6-f88e6e1dca0c",
   "metadata": {},
   "outputs": [
    {
     "data": {
      "text/plain": [
       "(7435, 22749)"
      ]
     },
     "execution_count": 26,
     "metadata": {},
     "output_type": "execute_result"
    }
   ],
   "source": [
    "X_test_count.shape"
   ]
  },
  {
   "cell_type": "markdown",
   "id": "c0f0f4a2-0dd3-410d-816b-93fbba8468d6",
   "metadata": {},
   "source": [
    "## ***TF-IDF (term frequency-inverse document frequency)***"
   ]
  },
  {
   "cell_type": "code",
   "execution_count": 27,
   "id": "2698d4fb-b37f-42d9-b3f3-6101a735578c",
   "metadata": {},
   "outputs": [
    {
     "data": {
      "text/plain": [
       "(17348, 22749)"
      ]
     },
     "execution_count": 27,
     "metadata": {},
     "output_type": "execute_result"
    }
   ],
   "source": [
    "tfidf_transformer = TfidfTransformer()\n",
    "X_train_tfidf = tfidf_transformer.fit_transform(X_train_count)\n",
    "X_train_tfidf.shape"
   ]
  },
  {
   "cell_type": "code",
   "execution_count": 28,
   "id": "fa6c6570-c161-4d3c-ae3a-8dd98dbda7af",
   "metadata": {},
   "outputs": [
    {
     "data": {
      "text/plain": [
       "(7435, 22749)"
      ]
     },
     "execution_count": 28,
     "metadata": {},
     "output_type": "execute_result"
    }
   ],
   "source": [
    "X_test_tfidf = tfidf_transformer.transform(X_test_count)\n",
    "X_test_tfidf.shape"
   ]
  },
  {
   "cell_type": "markdown",
   "id": "01431d4a-4390-405b-951e-2976a26fbac9",
   "metadata": {},
   "source": [
    "## ***Multinomial Naive Bais***"
   ]
  },
  {
   "cell_type": "code",
   "execution_count": 29,
   "id": "59ae0a7b-f993-4c16-964f-08b297d2775f",
   "metadata": {},
   "outputs": [],
   "source": [
    "from sklearn.naive_bayes import MultinomialNB\n",
    "clf = MultinomialNB().fit(X_train_tfidf, y_train)"
   ]
  },
  {
   "cell_type": "code",
   "execution_count": 30,
   "id": "4b79506e-4755-4c5a-bab9-bda56a658ebf",
   "metadata": {},
   "outputs": [],
   "source": [
    "tweet_test = [\"What a beautifull day summer\"]\n",
    "tweet_test_count = count_vect.transform(tweet_test)\n",
    "tweet_test_tfidf = tfidf_transformer.transform(tweet_test_count)\n",
    "predicted = clf.predict(tweet_test_tfidf)"
   ]
  },
  {
   "cell_type": "code",
   "execution_count": 31,
   "id": "d7dd27cb-23f7-449c-83bb-059fb7dbf840",
   "metadata": {},
   "outputs": [
    {
     "data": {
      "text/plain": [
       "array(['offensive_language'], dtype='<U18')"
      ]
     },
     "execution_count": 31,
     "metadata": {},
     "output_type": "execute_result"
    }
   ],
   "source": [
    "predicted"
   ]
  },
  {
   "cell_type": "code",
   "execution_count": 32,
   "id": "4040f0b9-c09a-4a5c-b44a-ffad31f9ae49",
   "metadata": {},
   "outputs": [
    {
     "data": {
      "text/plain": [
       "0.792871553463349"
      ]
     },
     "execution_count": 32,
     "metadata": {},
     "output_type": "execute_result"
    }
   ],
   "source": [
    "predicted = clf.predict(X_test_tfidf)\n",
    "np.mean(predicted == y_test)"
   ]
  },
  {
   "cell_type": "markdown",
   "id": "841d49b8-5651-4fc4-9a72-b37d4e23a1cb",
   "metadata": {},
   "source": [
    "## ***Logistic Regression***"
   ]
  },
  {
   "cell_type": "code",
   "execution_count": 33,
   "id": "e6b1a6b9-aecb-4641-bbae-e6ab6b3a144a",
   "metadata": {},
   "outputs": [],
   "source": [
    "reg_clf = LogisticRegression(max_iter=1000, class_weight='balanced').fit(X_train_tfidf, y_train)"
   ]
  },
  {
   "cell_type": "code",
   "execution_count": 34,
   "id": "7df3ac17-ac68-4a5a-ad6b-9f4576cbcdc6",
   "metadata": {},
   "outputs": [
    {
     "data": {
      "text/plain": [
       "0.8572965702757229"
      ]
     },
     "execution_count": 34,
     "metadata": {},
     "output_type": "execute_result"
    }
   ],
   "source": [
    "predicted = reg_clf.predict(X_test_tfidf)\n",
    "np.mean(predicted == y_test)"
   ]
  },
  {
   "cell_type": "code",
   "execution_count": 53,
   "id": "d87d75f0-a717-4904-8108-98d71169290a",
   "metadata": {},
   "outputs": [
    {
     "data": {
      "text/plain": [
       "array(['hate_speech'], dtype=object)"
      ]
     },
     "execution_count": 53,
     "metadata": {},
     "output_type": "execute_result"
    }
   ],
   "source": [
    "tweet_test = [\"I don't like black people\"]\n",
    "tweet_test_count = count_vect.transform(tweet_test)\n",
    "tweet_test_tfidf = tfidf_transformer.transform(tweet_test_count)\n",
    "predicted = reg_clf.predict(tweet_test_tfidf)\n",
    "predicted"
   ]
  },
  {
   "cell_type": "markdown",
   "id": "cb4d7d05-c19a-49d8-9ace-b5726ae00ee8",
   "metadata": {},
   "source": [
    "## ***Support Vector Machine Classifier***"
   ]
  },
  {
   "cell_type": "code",
   "execution_count": 36,
   "id": "c903a5d2-9d86-4291-81df-80665564cfd8",
   "metadata": {},
   "outputs": [],
   "source": [
    "svc_clf = SVC(kernel='linear', class_weight='balanced', probability=True).fit(X_train_tfidf, y_train)"
   ]
  },
  {
   "cell_type": "code",
   "execution_count": 37,
   "id": "35d873c4-0dd2-4a15-a4b9-87091c0f0229",
   "metadata": {},
   "outputs": [
    {
     "data": {
      "text/plain": [
       "0.8706119704102219"
      ]
     },
     "execution_count": 37,
     "metadata": {},
     "output_type": "execute_result"
    }
   ],
   "source": [
    "predicted = svc_clf.predict(X_test_tfidf)\n",
    "np.mean(predicted == y_test)"
   ]
  },
  {
   "cell_type": "code",
   "execution_count": 38,
   "id": "01215983-49d3-478c-9cd4-baefe8d2020a",
   "metadata": {},
   "outputs": [
    {
     "name": "stdout",
     "output_type": "stream",
     "text": [
      "offensive_language\n"
     ]
    }
   ],
   "source": [
    "tweet_test = [\"youu got wild bitch tellin lie\"]\n",
    "tweet_test_count = count_vect.transform(tweet_test)\n",
    "tweet_test_tfidf = tfidf_transformer.transform(tweet_test_count)\n",
    "predicted = svc_clf.predict(tweet_test_tfidf)\n",
    "print(predicted[0])"
   ]
  },
  {
   "cell_type": "markdown",
   "id": "fb4b542a-09a7-4d16-9c19-28d929effeeb",
   "metadata": {},
   "source": [
    "## ***Gaussiane Naive Bias***"
   ]
  },
  {
   "cell_type": "code",
   "execution_count": 39,
   "id": "2450c7c8-fc62-432c-a0cd-8c4378ccb192",
   "metadata": {},
   "outputs": [],
   "source": [
    "gnb_clf = GaussianNB().fit(X_train_tfidf.toarray(), y_train)"
   ]
  },
  {
   "cell_type": "code",
   "execution_count": 40,
   "id": "981dd893-9dca-43bc-8bf5-092fbbb8a582",
   "metadata": {},
   "outputs": [
    {
     "data": {
      "text/plain": [
       "0.5047747141896436"
      ]
     },
     "execution_count": 40,
     "metadata": {},
     "output_type": "execute_result"
    }
   ],
   "source": [
    "predicted = gnb_clf.predict(X_test_tfidf.toarray())\n",
    "np.mean(predicted == y_test)"
   ]
  },
  {
   "cell_type": "code",
   "execution_count": null,
   "id": "fc122d28-5936-4dbc-b4a3-98133d54a97e",
   "metadata": {},
   "outputs": [],
   "source": []
  }
 ],
 "metadata": {
  "kernelspec": {
   "display_name": "Python 3 (ipykernel)",
   "language": "python",
   "name": "python3"
  },
  "language_info": {
   "codemirror_mode": {
    "name": "ipython",
    "version": 3
   },
   "file_extension": ".py",
   "mimetype": "text/x-python",
   "name": "python",
   "nbconvert_exporter": "python",
   "pygments_lexer": "ipython3",
   "version": "3.12.4"
  }
 },
 "nbformat": 4,
 "nbformat_minor": 5
}
